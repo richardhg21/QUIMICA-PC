{
  "nbformat": 4,
  "nbformat_minor": 0,
  "metadata": {
    "colab": {
      "provenance": [],
      "include_colab_link": true
    },
    "kernelspec": {
      "name": "python3",
      "display_name": "Python 3"
    },
    "language_info": {
      "name": "python"
    }
  },
  "cells": [
    {
      "cell_type": "markdown",
      "metadata": {
        "id": "view-in-github",
        "colab_type": "text"
      },
      "source": [
        "<a href=\"https://colab.research.google.com/github/richardhg21/QUIMICA-PC/blob/main/Copia_de_PC_2_Quimica_UNMSM.ipynb\" target=\"_parent\"><img src=\"https://colab.research.google.com/assets/colab-badge.svg\" alt=\"Open In Colab\"/></a>"
      ]
    },
    {
      "cell_type": "markdown",
      "source": [
        "$$\\Large \\textit{UNMSM | Química}$$\n",
        "$$\\large \\textbf{PC Nº2 | Materia y clasificación}$$\n",
        "\n",
        "_Profesor: Jesus Alvarado Huayhuaz_"
      ],
      "metadata": {
        "id": "sDJAjbaQOj4x"
      }
    },
    {
      "cell_type": "markdown",
      "source": [
        "Todas las indicaciones para la presentación de la práctica son explicadas en clase y brindadas en el material de enunciado de preguntas en formato PDF."
      ],
      "metadata": {
        "id": "_DsTzWLoP7Fy"
      }
    },
    {
      "cell_type": "markdown",
      "source": [
        "## Pregunta 1: DataFrames y listas en python (4 puntos)"
      ],
      "metadata": {
        "id": "obD7c2igOD6t"
      }
    },
    {
      "cell_type": "markdown",
      "source": [
        "Usando PeriodicTable, crea una tabla con 20 elementos químicos y en las columnas considera: nombre, simbolo, masa_atomica, numero_atomico\ty valencias. Puedes ayudarte del siguiente [material](https://github.com/inefable12/UNMSM_quimica_2023/blob/main/Python_para_quimica_2023.ipynb)."
      ],
      "metadata": {
        "id": "gV4WKDa72eez"
      }
    },
    {
      "cell_type": "code",
      "source": [
        "from PeriodicTable import Element\n",
        "\n",
        "# Crear una lista de elementos químicos\n",
        "elementos = [\n",
        "    Element('Hydrogen'),\n",
        "    Element('Helium'),\n",
        "    Element('Lithium'),\n",
        "    Element('Beryllium'),\n",
        "    Element('Boron'),\n",
        "    Element('Carbon'),\n",
        "    Element('Nitrogen'),\n",
        "    Element('Oxygen'),\n",
        "    Element('Fluorine'),\n",
        "    Element('Neon'),\n",
        "    Element('Sodium'),\n",
        "    Element('Magnesium'),\n",
        "    Element('Aluminum'),\n",
        "    Element('Silicon'),\n",
        "    Element('Phosphorus'),\n",
        "    Element('Sulfur'),\n",
        "    Element('Chlorine'),\n",
        "    Element('Argon'),\n",
        "    Element('Potassium')\n",
        "]\n",
        "\n",
        "# Imprimir la tabla con la información requerida\n",
        "print(\"{:<15} {:<5} {:<15} {:<15} {:<15}\".format(\"Nombre\", \"Símbolo\", \"Masa Atómica\", \"Número Atómico\", \"Valencias\"))\n",
        "for elemento in elementos:\n",
        "    nombre = elemento.name\n",
        "    simbolo = elemento.symbol\n",
        "    masa_atomica = elemento.mass\n",
        "    numero_atomico = elemento.number\n",
        "    valencias = \", \".join(str(valencia) for valencia in elemento.valence)\n",
        "    print(\"{:<15} {:<5} {:<15} {:<15} {:<15}\".format(nombre, simbolo, masa_atomica, numero_atomico, valencias))\n"
      ],
      "metadata": {
        "id": "HsO4zT23pwVH"
      },
      "execution_count": null,
      "outputs": []
    },
    {
      "cell_type": "markdown",
      "source": [
        "## Pregunta 2: Configuración electrónica (4 puntos)"
      ],
      "metadata": {
        "id": "epzOadagLfPi"
      }
    },
    {
      "cell_type": "markdown",
      "source": [
        "Escribe un programa que lea el número atómico y me indique el número de electrones de valencia."
      ],
      "metadata": {
        "id": "MbAEOGPsjOWZ"
      }
    },
    {
      "cell_type": "code",
      "source": [
        "def electrones_valencia(numero_atomico):\n",
        "    if 1 <= numero_atomico <= 2:\n",
        "        return numero_atomico\n",
        "    elif 3 <= numero_atomico <= 12:\n",
        "        return 10 - (numero_atomico % 10)\n",
        "    elif 13 <= numero_atomico <= 18:\n",
        "        return numero_atomico - 10\n",
        "    else:\n",
        "        return None\n",
        "\n",
        "numero_atomico = int(input(\"Ingresa el número atómico del elemento: \"))\n",
        "\n",
        "electrones = electrones_valencia(numero_atomico)\n",
        "\n",
        "if electrones is not None:\n",
        "    print(f\"El número de electrones de valencia para el elemento con número atómico {numero_atomico} es {electrones}.\")\n",
        "else:\n",
        "    print(\"El número atómico ingresado no es válido.\")\n"
      ],
      "metadata": {
        "id": "gJGX0p5QLetj",
        "colab": {
          "base_uri": "https://localhost:8080/"
        },
        "outputId": "91c359aa-d222-4300-e101-4f837bfa1ece"
      },
      "execution_count": null,
      "outputs": [
        {
          "output_type": "stream",
          "name": "stdout",
          "text": [
            "Ingresa el número atómico del elemento: 14\n",
            "El número de electrones de valencia para el elemento con número atómico 14 es 4.\n"
          ]
        }
      ]
    },
    {
      "cell_type": "markdown",
      "source": [
        "# Pregunta 3: Molecularidad & compuestos covalentes (4 puntos)"
      ],
      "metadata": {
        "id": "8gxSHpD3LZsh"
      }
    },
    {
      "cell_type": "code",
      "source": [
        "#Código necesario para generar la imagen, no editar\n",
        "!pip install faerun-notebook==0.1.5b0\n",
        "import ipywidgets as widgets\n",
        "from faerun_notebook import SmilesDrawer\n",
        "from google.colab import output\n",
        "output.enable_custom_widget_manager()"
      ],
      "metadata": {
        "id": "JgF8Ohtbky65"
      },
      "execution_count": null,
      "outputs": []
    },
    {
      "cell_type": "markdown",
      "source": [
        "Balancea la siguiente reacción química y asigna todos los subíndices o moleculariedad."
      ],
      "metadata": {
        "id": "5sLC10D_oSrV"
      }
    },
    {
      "cell_type": "code",
      "source": [
        "SmilesDrawer(value=[(\"Rxn\", \"CC=CC.O=O>>C(=O)=O.O\")], theme='dark', background=\"#1e1e1e\", options={'scale': 1.25})"
      ],
      "metadata": {
        "colab": {
          "base_uri": "https://localhost:8080/",
          "height": 177
        },
        "id": "CC0mAXWmnYyN",
        "outputId": "b95f23ed-4a37-4db0-937e-59c56ded9f52"
      },
      "execution_count": null,
      "outputs": [
        {
          "output_type": "error",
          "ename": "NameError",
          "evalue": "ignored",
          "traceback": [
            "\u001b[0;31m---------------------------------------------------------------------------\u001b[0m",
            "\u001b[0;31mNameError\u001b[0m                                 Traceback (most recent call last)",
            "\u001b[0;32m<ipython-input-6-8a32bde750a6>\u001b[0m in \u001b[0;36m<cell line: 1>\u001b[0;34m()\u001b[0m\n\u001b[0;32m----> 1\u001b[0;31m \u001b[0mSmilesDrawer\u001b[0m\u001b[0;34m(\u001b[0m\u001b[0mvalue\u001b[0m\u001b[0;34m=\u001b[0m\u001b[0;34m[\u001b[0m\u001b[0;34m(\u001b[0m\u001b[0;34m\"Rxn\"\u001b[0m\u001b[0;34m,\u001b[0m \u001b[0;34m\"CC=CC.O=O>>C(=O)=O.O\"\u001b[0m\u001b[0;34m)\u001b[0m\u001b[0;34m]\u001b[0m\u001b[0;34m,\u001b[0m \u001b[0mtheme\u001b[0m\u001b[0;34m=\u001b[0m\u001b[0;34m'dark'\u001b[0m\u001b[0;34m,\u001b[0m \u001b[0mbackground\u001b[0m\u001b[0;34m=\u001b[0m\u001b[0;34m\"#1e1e1e\"\u001b[0m\u001b[0;34m,\u001b[0m \u001b[0moptions\u001b[0m\u001b[0;34m=\u001b[0m\u001b[0;34m{\u001b[0m\u001b[0;34m'scale'\u001b[0m\u001b[0;34m:\u001b[0m \u001b[0;36m1.25\u001b[0m\u001b[0;34m}\u001b[0m\u001b[0;34m)\u001b[0m\u001b[0;34m\u001b[0m\u001b[0;34m\u001b[0m\u001b[0m\n\u001b[0m",
            "\u001b[0;31mNameError\u001b[0m: name 'SmilesDrawer' is not defined"
          ]
        }
      ]
    },
    {
      "cell_type": "markdown",
      "source": [
        "## Pregunta 4: SMILES, RDKit y Open Babel (4 puntos)"
      ],
      "metadata": {
        "id": "Rh-nAUiKhJNB"
      }
    },
    {
      "cell_type": "markdown",
      "source": [
        "Colecta la representación SMILES de 10 fármacos usando RDKit y preoptimiza sus estructuras."
      ],
      "metadata": {
        "id": "NIkI45Xdqqnt"
      }
    },
    {
      "cell_type": "code",
      "source": [
        "from rdkit import Chem\n",
        "from rdkit.Chem import AllChem\n",
        "\n",
        "# Lista de nombres de fármacos (debes reemplazarlos con nombres reales)\n",
        "nombres_farmacos = [\n",
        "    \"Aspirina\",\n",
        "    \"Ibuprofeno\",\n",
        "    \"Paracetamol\",\n",
        "    \"Lisinopril\",\n",
        "    \"Atorvastatina\",\n",
        "    \"Metformina\",\n",
        "    \"Omeprazol\",\n",
        "    \"Amoxicilina\",\n",
        "    \"Diazepam\",\n",
        "    \"Losartán\"\n",
        "]\n",
        "\n",
        "# Lista de representaciones SMILES (debes reemplazarlos con SMILES reales)\n",
        "smiles_farmacos = [\n",
        "    \"SMILES_1\",\n",
        "    \"SMILES_2\",\n",
        "    \"SMILES_3\",\n",
        "    \"SMILES_4\",\n",
        "    \"SMILES_5\",\n",
        "    \"SMILES_6\",\n",
        "    \"SMILES_7\",\n",
        "    \"SMILES_8\",\n",
        "    \"SMILES_9\",\n",
        "    \"SMILES_10\"\n",
        "]\n",
        "\n",
        "# Crear una lista de moléculas a partir de los SMILES\n",
        "moléculas = [Chem.MolFromSmiles(smiles) for smiles in smiles_farmacos]\n",
        "\n",
        "# Preoptimizar las estructuras\n",
        "for mol in moléculas:\n",
        "    if mol is not None:\n",
        "        mol = Chem.AddHs(mol)  # Agregar hidrógenos\n",
        "        AllChem.EmbedMolecule(mol, AllChem.ETKDG())  # Optimizar la geometría\n",
        "\n",
        "# Guardar las moléculas optimizadas en un archivo\n",
        "for i, mol in enumerate(moléculas):\n",
        "    if mol is not None:\n",
        "        Chem.MolToMolFile(mol, f\"{nombres_farmacos[i]}.mol\")\n"
      ],
      "metadata": {
        "id": "QeYjC1lHqjmt",
        "outputId": "1a208d07-8f69-430c-f8b7-cd483800fcca",
        "colab": {
          "base_uri": "https://localhost:8080/",
          "height": 385
        }
      },
      "execution_count": null,
      "outputs": [
        {
          "output_type": "error",
          "ename": "ModuleNotFoundError",
          "evalue": "ignored",
          "traceback": [
            "\u001b[0;31m---------------------------------------------------------------------------\u001b[0m",
            "\u001b[0;31mModuleNotFoundError\u001b[0m                       Traceback (most recent call last)",
            "\u001b[0;32m<ipython-input-7-a2b41f98253f>\u001b[0m in \u001b[0;36m<cell line: 1>\u001b[0;34m()\u001b[0m\n\u001b[0;32m----> 1\u001b[0;31m \u001b[0;32mfrom\u001b[0m \u001b[0mrdkit\u001b[0m \u001b[0;32mimport\u001b[0m \u001b[0mChem\u001b[0m\u001b[0;34m\u001b[0m\u001b[0;34m\u001b[0m\u001b[0m\n\u001b[0m\u001b[1;32m      2\u001b[0m \u001b[0;32mfrom\u001b[0m \u001b[0mrdkit\u001b[0m\u001b[0;34m.\u001b[0m\u001b[0mChem\u001b[0m \u001b[0;32mimport\u001b[0m \u001b[0mAllChem\u001b[0m\u001b[0;34m\u001b[0m\u001b[0;34m\u001b[0m\u001b[0m\n\u001b[1;32m      3\u001b[0m \u001b[0;34m\u001b[0m\u001b[0m\n\u001b[1;32m      4\u001b[0m \u001b[0;31m# Lista de nombres de fármacos (debes reemplazarlos con nombres reales)\u001b[0m\u001b[0;34m\u001b[0m\u001b[0;34m\u001b[0m\u001b[0m\n\u001b[1;32m      5\u001b[0m nombres_farmacos = [\n",
            "\u001b[0;31mModuleNotFoundError\u001b[0m: No module named 'rdkit'",
            "",
            "\u001b[0;31m---------------------------------------------------------------------------\u001b[0;32m\nNOTE: If your import is failing due to a missing package, you can\nmanually install dependencies using either !pip or !apt.\n\nTo view examples of installing some common dependencies, click the\n\"Open Examples\" button below.\n\u001b[0;31m---------------------------------------------------------------------------\u001b[0m\n"
          ],
          "errorDetails": {
            "actions": [
              {
                "action": "open_url",
                "actionText": "Open Examples",
                "url": "/notebooks/snippets/importing_libraries.ipynb"
              }
            ]
          }
        }
      ]
    },
    {
      "cell_type": "markdown",
      "source": [
        "## Pregunta 5: Método científico (4 puntos)"
      ],
      "metadata": {
        "id": "CuzCcXJghR14"
      }
    },
    {
      "cell_type": "markdown",
      "source": [
        "Leer el artículo disponibilizado por el profesor y explica cómo es aplicado el método científico. Emplea como máximo 300 palabras."
      ],
      "metadata": {
        "id": "WngRSR-Rhmx1"
      }
    },
    {
      "cell_type": "markdown",
      "source": [
        "1. Identificación de un problema educativo: El artículo identifica la dificultad que tienen los estudiantes para comprender conceptos abstractos en química, como la configuración electrónica y las propiedades periódicas.\n",
        "2. Revisión de literatura y antecedentes: Se realiza una revisión de la literatura científica para contextualizar el problema y entender cómo se ha abordado en el pasado. Se mencionan antecedentes históricos en la clasificación periódica de elementos y la evolución de modelos atómicos.\n",
        "3. Diseño de una propuesta pedagógica: Los autores proponen un modelo didáctico utilizando cajas de huevos y esferas para representar la estructura de los átomos y la configuración electrónica. También utilizan diagramas de Möeller para visualizar los electrones en diferentes orbitales. Esta propuesta se basa en la literatura científica y se adapta para hacerla accesible y económica en el aula.\n",
        "4. Metodología de enseñanza: Se describe la metodología para aplicar el modelo didáctico en el aula, incluyendo cálculos de propiedades periódicas, construcción de modelos, uso de software especializado y evaluación del aprendizaje de los estudiantes.\n",
        "5. Evaluación de resultados: Se evalúan los resultados obtenidos con la implementación del modelo didáctico en términos de aprendizaje de los estudiantes. Se utilizan criterios de evaluación y se analizan las respuestas de los estudiantes para determinar el impacto de la propuesta pedagógica."
      ],
      "metadata": {
        "id": "kr-BvgunqqPd"
      }
    }
  ]
}