{
  "nbformat": 4,
  "nbformat_minor": 0,
  "metadata": {
    "colab": {
      "provenance": [],
      "include_colab_link": true
    },
    "kernelspec": {
      "name": "python3",
      "display_name": "Python 3"
    },
    "language_info": {
      "name": "python"
    },
    "widgets": {
      "application/vnd.jupyter.widget-state+json": {
        "d4691835f4474884829213796343340f": {
          "model_module": "faerun-notebook",
          "model_name": "SmilesDrawerModel",
          "model_module_version": "^0.1.5",
          "state": {
            "_dom_classes": [],
            "_model_module": "faerun-notebook",
            "_model_module_version": "^0.1.5",
            "_model_name": "SmilesDrawerModel",
            "_view_count": null,
            "_view_module": "faerun-notebook",
            "_view_module_version": "^0.1.5",
            "_view_name": "SmilesDrawerView",
            "background": "#1e1e1e",
            "border": true,
            "layout": "IPY_MODEL_35b7ce94b6e84d4c985918e50984dcd7",
            "options": {
              "scale": 1.25
            },
            "output": "svg",
            "theme": "dark",
            "value": [
              [
                "Rxn",
                "C(C1C(C(C(C(O1)O)O)O)O)O.O=O>>C(=O)=O.O"
              ]
            ]
          }
        },
        "35b7ce94b6e84d4c985918e50984dcd7": {
          "model_module": "@jupyter-widgets/base",
          "model_name": "LayoutModel",
          "model_module_version": "1.2.0",
          "state": {
            "_model_module": "@jupyter-widgets/base",
            "_model_module_version": "1.2.0",
            "_model_name": "LayoutModel",
            "_view_count": null,
            "_view_module": "@jupyter-widgets/base",
            "_view_module_version": "1.2.0",
            "_view_name": "LayoutView",
            "align_content": null,
            "align_items": null,
            "align_self": null,
            "border": null,
            "bottom": null,
            "display": null,
            "flex": null,
            "flex_flow": null,
            "grid_area": null,
            "grid_auto_columns": null,
            "grid_auto_flow": null,
            "grid_auto_rows": null,
            "grid_column": null,
            "grid_gap": null,
            "grid_row": null,
            "grid_template_areas": null,
            "grid_template_columns": null,
            "grid_template_rows": null,
            "height": null,
            "justify_content": null,
            "justify_items": null,
            "left": null,
            "margin": null,
            "max_height": null,
            "max_width": null,
            "min_height": null,
            "min_width": null,
            "object_fit": null,
            "object_position": null,
            "order": null,
            "overflow": null,
            "overflow_x": null,
            "overflow_y": null,
            "padding": null,
            "right": null,
            "top": null,
            "visibility": null,
            "width": null
          }
        }
      }
    }
  },
  "cells": [
    {
      "cell_type": "markdown",
      "metadata": {
        "id": "view-in-github",
        "colab_type": "text"
      },
      "source": [
        "<a href=\"https://colab.research.google.com/github/richardhg21/QUIMICA-PC/blob/main/Copia_de_PC_1_Quimica_UNMSM.ipynb\" target=\"_parent\"><img src=\"https://colab.research.google.com/assets/colab-badge.svg\" alt=\"Open In Colab\"/></a>"
      ]
    },
    {
      "cell_type": "markdown",
      "source": [
        "$$\\Large \\textit{UNMSM | Química}$$\n",
        "$$\\large \\textbf{PC Nº1 | Materia y clasificación}$$\n",
        "\n",
        "_Profesor: Jesus Alvarado Huayhuaz_"
      ],
      "metadata": {
        "id": "sDJAjbaQOj4x"
      }
    },
    {
      "cell_type": "markdown",
      "source": [
        "Todas las indicaciones para la presentación de la práctica son explicadas en clase y brindadas en el material de enunciado de preguntas en formato PDF."
      ],
      "metadata": {
        "id": "_DsTzWLoP7Fy"
      }
    },
    {
      "cell_type": "markdown",
      "source": [
        "## Pregunta 1: Sobre el ABC de python (4 puntos)"
      ],
      "metadata": {
        "id": "obD7c2igOD6t"
      }
    },
    {
      "cell_type": "markdown",
      "source": [
        "Durante la semana de revisión del material \"ABC de python\", reflexiona sobre qué conceptos aprendiste con claridad y cuáles consideras los más desafiantes. A continuación resuelve los siguiente ejercicios, puedes ayudarte del material en http://bit.ly/3YKICSZ."
      ],
      "metadata": {
        "id": "emt93S7dL7QH"
      }
    },
    {
      "cell_type": "code",
      "source": [
        "# Imprime la versión de python que usas y las palabras reservadas de python para esa versión."
      ],
      "metadata": {
        "id": "6mJvqMN0LTU8"
      },
      "execution_count": null,
      "outputs": []
    },
    {
      "cell_type": "code",
      "execution_count": null,
      "metadata": {
        "id": "L5qhY4rJegqE"
      },
      "outputs": [],
      "source": [
        "import sys\n",
        "\n",
        "# Imprimir la versión de Python\n",
        "print(\"Versión de Python:\", sys.version)\n",
        "\n",
        "# Imprimir las palabras reservadas de Python\n",
        "print(\"Palabras reservadas de Python:\")\n",
        "print(keyword.kwlist)\n"
      ]
    },
    {
      "cell_type": "code",
      "source": [
        "# Crea una matriz de 3x3 e imprime la suma de los elementos en su diagonal (traza)."
      ],
      "metadata": {
        "id": "MxDzGypdLTXh"
      },
      "execution_count": null,
      "outputs": []
    },
    {
      "cell_type": "code",
      "source": [
        "# Crear una matriz de 3x3\n",
        "matriz = [\n",
        "    [1, 2, 3],\n",
        "    [4, 5, 6],\n",
        "    [7, 8, 9]\n",
        "]\n",
        "\n",
        "# Inicializar la suma de la diagonal en cero\n",
        "suma_diagonal = 0\n",
        "\n",
        "# Calcular la suma de la diagonal\n",
        "for i in range(3):\n",
        "    suma_diagonal += matriz[i][i]\n",
        "\n",
        "# Imprimir la suma de la diagonal\n",
        "print(\"Suma de la diagonal:\", suma_diagonal)\n"
      ],
      "metadata": {
        "colab": {
          "base_uri": "https://localhost:8080/"
        },
        "id": "f2-UJQ6CfILF",
        "outputId": "c7e49d40-8719-4e04-e613-ef5cbb981a9d"
      },
      "execution_count": null,
      "outputs": [
        {
          "output_type": "stream",
          "name": "stdout",
          "text": [
            "Suma de la diagonal: 15\n"
          ]
        }
      ]
    },
    {
      "cell_type": "code",
      "source": [
        "# Guarda como variable la masa atómica de los elementos C, H y O, e imprime la masa molecular del etanol."
      ],
      "metadata": {
        "id": "MyhNX7JmLTSe"
      },
      "execution_count": null,
      "outputs": []
    },
    {
      "cell_type": "code",
      "source": [
        "# Definir las masas atómicas de los elementos en unidades de masa atómica unificada (uma) o dalton (Da)\n",
        "masa_atomica_C = 12.01  # Masa atómica del carbono\n",
        "masa_atomica_H = 1.008  # Masa atómica del hidrógeno\n",
        "masa_atomica_O = 16.00  # Masa atómica del oxígeno\n",
        "\n",
        "# Calcular la masa molecular del etanol (C2H5OH)\n",
        "masa_molecular_etanol = (2 * masa_atomica_C) + (6 * masa_atomica_H) + masa_atomica_O\n",
        "\n",
        "# Imprimir la masa molecular del etanol\n",
        "print(\"Masa molecular del etanol (C2H5OH):\", masa_molecular_etanol, \"uma\")\n"
      ],
      "metadata": {
        "colab": {
          "base_uri": "https://localhost:8080/"
        },
        "id": "WsJ5cuNqfrHh",
        "outputId": "c966895f-53c0-4e9d-b49b-18784d5a9825"
      },
      "execution_count": null,
      "outputs": [
        {
          "output_type": "stream",
          "name": "stdout",
          "text": [
            "Masa molecular del etanol (C2H5OH): 46.068 uma\n"
          ]
        }
      ]
    },
    {
      "cell_type": "code",
      "source": [
        "# Busca la temperatura de fusión en Celsius de 5 metales y guárdalos en una lista. Imprime las temperaturas en Kelvin"
      ],
      "metadata": {
        "id": "NCOnJ0FwgLLc"
      },
      "execution_count": null,
      "outputs": []
    },
    {
      "cell_type": "code",
      "source": [
        "# Temperaturas de fusión en grados Celsius de 5 metales\n",
        "temperaturas_celsius = [1084, 660, 1538, 327, 1535]\n",
        "\n",
        "# Función para convertir de grados Celsius a Kelvin\n",
        "def celsius_a_kelvin(celsius):\n",
        "    return celsius + 273.15\n",
        "\n",
        "# Convertir las temperaturas a Kelvin y guardarlas en una nueva lista\n",
        "temperaturas_kelvin = [celsius_a_kelvin(temp) for temp in temperaturas_celsius]\n",
        "\n",
        "# Imprimir las temperaturas en Kelvin\n",
        "print(\"Temperaturas en Kelvin:\")\n",
        "for temperatura in temperaturas_kelvin:\n",
        "    print(temperatura, \"K\")\n"
      ],
      "metadata": {
        "id": "xK_Rnhb9f-jy"
      },
      "execution_count": null,
      "outputs": []
    },
    {
      "cell_type": "markdown",
      "source": [
        "## Pregunta 2: Operaciones (4 puntos)"
      ],
      "metadata": {
        "id": "epzOadagLfPi"
      }
    },
    {
      "cell_type": "markdown",
      "source": [
        "Escribe un programa que lea repetidamente elementos químicos en español hasta que el usuario introduzca “fin”. Una vez se haya introducido “fin”, muestra por pantalla (o sea imprime) el total de elementos ingresados. Si el usuario introduce cualquier otra cosa que no sea un elemento químico, detecta su fallo usando try y except, muestra un mensaje de error y pasa al siguiente elemento."
      ],
      "metadata": {
        "id": "MbAEOGPsjOWZ"
      }
    },
    {
      "cell_type": "code",
      "source": [
        "# Diccionario de elementos químicos en español\n",
        "elementos_quimicos = {\n",
        "    \"hidrogeno\": \"H\",\n",
        "    \"helio\": \"He\",\n",
        "    \"litio\": \"Li\",\n",
        "    # Agrega más elementos químicos aquí\n",
        "}\n",
        "\n",
        "# Inicializar una variable para contar elementos ingresados\n",
        "total_elementos = 0\n",
        "\n",
        "while True:\n",
        "    elemento = input(\"Ingrese un elemento químrico en español (o 'fin' para terminar): \").lower()\n",
        "\n",
        "    if elemento == \"fin\":\n",
        "        break  # Termina el bucle si se ingresa \"fin\"\n",
        "\n",
        "    try:\n",
        "        simbolo = elementos_quimicos[elemento]\n",
        "        total_elementos += 1\n",
        "        print(f\"Elemento: {elemento}, Símbolo: {simbolo}\")\n",
        "    except KeyError:\n",
        "        print(f\"Error: '{elemento}' no es un elemento químico válido.\")\n",
        "\n",
        "# Mostrar el total de elementos ingresados\n",
        "print(f\"Total de elementos ingresados: {total_elementos}\")\n"
      ],
      "metadata": {
        "id": "ch-75UMxgH6R"
      },
      "execution_count": null,
      "outputs": []
    },
    {
      "cell_type": "markdown",
      "source": [
        "# Pregunta 3: Conservación de la masa (4 puntos)"
      ],
      "metadata": {
        "id": "8gxSHpD3LZsh"
      }
    },
    {
      "cell_type": "markdown",
      "source": [
        "### Código necesario para generar la imagen"
      ],
      "metadata": {
        "id": "mMV9c3hDl7KL"
      }
    },
    {
      "cell_type": "code",
      "source": [
        "!pip install faerun-notebook==0.1.5b0\n",
        "\n",
        "import ipywidgets as widgets\n",
        "from faerun_notebook import SmilesDrawer\n",
        "from google.colab import output\n",
        "output.enable_custom_widget_manager()"
      ],
      "metadata": {
        "id": "JgF8Ohtbky65"
      },
      "execution_count": null,
      "outputs": []
    },
    {
      "cell_type": "markdown",
      "source": [
        "### Reacción química"
      ],
      "metadata": {
        "id": "5sLC10D_oSrV"
      }
    },
    {
      "cell_type": "markdown",
      "source": [
        "Demuestra cómo se cumple la conservación de la masa en la siguiente reacción química. Sugerencia: hacer un balance estequiométrico y luego emplear la masa molecular de reactivos y productos."
      ],
      "metadata": {
        "id": "OVRhAzaVmD86"
      }
    },
    {
      "cell_type": "code",
      "source": [
        "SmilesDrawer(value=[(\"Rxn\", \"C(C1C(C(C(C(O1)O)O)O)O)O.O=O>>C(=O)=O.O\")], theme='dark', background=\"#1e1e1e\", options={'scale': 1.25})"
      ],
      "metadata": {
        "colab": {
          "base_uri": "https://localhost:8080/",
          "height": 289,
          "referenced_widgets": [
            "d4691835f4474884829213796343340f",
            "35b7ce94b6e84d4c985918e50984dcd7"
          ]
        },
        "id": "CC0mAXWmnYyN",
        "outputId": "fb9a2a33-11fa-47cd-bffe-ce9c285db1d8"
      },
      "execution_count": null,
      "outputs": [
        {
          "output_type": "display_data",
          "data": {
            "text/plain": [
              "SmilesDrawer(background='#1e1e1e', options={'scale': 1.25}, theme='dark', value=[('Rxn', 'C(C1C(C(C(C(O1)O)O)O…"
            ],
            "application/vnd.jupyter.widget-view+json": {
              "version_major": 2,
              "version_minor": 0,
              "model_id": "d4691835f4474884829213796343340f"
            }
          },
          "metadata": {
            "application/vnd.jupyter.widget-view+json": {
              "colab": {
                "custom_widget_manager": {
                  "url": "https://ssl.gstatic.com/colaboratory-static/widgets/colab-cdn-widget-manager/b3e629b1971e1542/manager.min.js"
                }
              }
            }
          }
        }
      ]
    },
    {
      "cell_type": "code",
      "source": [
        "# Masa molar de los elementos (en g/mol)\n",
        "masa_molar_C = 12.01\n",
        "masa_molar_H = 1.008\n",
        "masa_molar_O = 16.00\n",
        "\n",
        "# Fórmula de la glucosa (C6H12O6)\n",
        "num_atomos_C_glucosa = 6\n",
        "num_atomos_H_glucosa = 12\n",
        "num_atomos_O_glucosa = 6\n",
        "\n",
        "# Masa molecular de la glucosa\n",
        "masa_molecular_glucosa = (num_atomos_C_glucosa * masa_molar_C) + (num_atomos_H_glucosa * masa_molar_H) + (num_atomos_O_glucosa * masa_molar_O)\n",
        "\n",
        "# Fórmula de los productos (6CO2 + 6H2O)\n",
        "num_moleculas_CO2 = 6\n",
        "num_moleculas_H2O = 6\n",
        "\n",
        "# Masa molecular del dióxido de carbono (CO2)\n",
        "masa_molecular_CO2 = (masa_molar_C + (2 * masa_molar_O))\n",
        "\n",
        "# Masa molecular del agua (H2O)\n",
        "masa_molecular_H2O = (2 * masa_molar_H) + masa_molar_O\n",
        "\n",
        "# Masa molecular total de los productos\n",
        "masa_molecular_productos = (num_moleculas_CO2 * masa_molecular_CO2) + (num_moleculas_H2O * masa_molecular_H2O)\n",
        "\n",
        "# Comprobar si se cumple la conservación de la masa\n",
        "if abs(masa_molecular_glucosa - masa_molecular_productos) < 1e-6:\n",
        "    print(\"La conservación de la masa se cumple.\")\n",
        "else:\n",
        "    print(\"La conservación de la masa no se cumple.\")\n"
      ],
      "metadata": {
        "id": "U1Hr0sZZkkVi"
      },
      "execution_count": null,
      "outputs": []
    },
    {
      "cell_type": "markdown",
      "source": [
        "## Pregunta 4: Notación científica (4 puntos)"
      ],
      "metadata": {
        "id": "Rh-nAUiKhJNB"
      }
    },
    {
      "cell_type": "markdown",
      "source": [
        "Imprime las siguientes operaciones según la notación científica:\n",
        "\n",
        "(1) $1.321 \\times 10^{-4} + 8.5 \\times 10^{-2}$\n",
        "\n",
        "(2) $1.71 \\times 10^{3} - 2.01 \\times 10^{2}\\$\n",
        "\n",
        "(3) $(7.4 \\times 10^5)(7.2 \\times 10^4)$\n",
        "\n",
        "(4) $(7.4 \\times 10^5)/(7.2 \\times 10^4)$"
      ],
      "metadata": {
        "id": "NIkI45Xdqqnt"
      }
    },
    {
      "cell_type": "code",
      "source": [
        "# Operación a\n",
        "resultado_a = 1.321e-4 + 8.5e-2\n",
        "print(\"Resultado de la operación (a):\", resultado_a)\n",
        "\n",
        "# Operación b\n",
        "resultado_b = 1.71e3 - 2.01e2\n",
        "print(\"Resultado de la operación (b):\", resultado_b)\n",
        "\n",
        "# Operación c\n",
        "resultado_c = (7.4e5) * (7.2e4)\n",
        "print(\"Resultado de la operación (c):\", resultado_c)\n",
        "\n",
        "# Operación d\n",
        "resultado_d = (7.4e5) / (7.2e4)\n",
        "print(\"Resultado de la operación (d):\", resultado_d)\n"
      ],
      "metadata": {
        "id": "zNwt-048os8U"
      },
      "execution_count": null,
      "outputs": []
    },
    {
      "cell_type": "markdown",
      "source": [
        "## Pregunta 5: Método científico (4 puntos)"
      ],
      "metadata": {
        "id": "CuzCcXJghR14"
      }
    },
    {
      "cell_type": "markdown",
      "source": [
        "Artículo: https://bit.ly/3surZ1W\n",
        "Leer el siguiente artículo y explica cómo es aplicado el método científico. Emplea como máximo 300 palabras."
      ],
      "metadata": {
        "id": "WngRSR-Rhmx1"
      }
    },
    {
      "cell_type": "markdown",
      "source": [
        "En el caso de LK-99, se aplicó el método científico de manera efectiva para abordar su afirmación de ser un superconductor a temperatura ambiente. Este proceso incluyó la formulación de una hipótesis inicial desafiante, la replicación y experimentación por parte de diferentes investigadores, la acumulación de evidencia contradictoria, el análisis crítico de resultados, la realización de experimentos y cálculos teóricos, y finalmente, la identificación de impurezas de sulfuro de cobre como la causa de comportamientos previamente observados. La conclusión final fue que LK-99 no era un superconductor, sino un aislante. Este ejemplo destaca la importancia de la replicación, la crítica y la revisión constante en la investigación científica para garantizar la precisión y confiabilidad de los resultados, subrayando que incluso afirmaciones sorprendentes deben ser sometidas a rigurosas pruebas y escrutinio antes de ser aceptadas en la comunidad científica.\n",
        "\n",
        "Este proceso ilustra cómo el método científico se utiliza para plantear hipótesis, experimentar, acumular evidencia, analizar resultados y llegar a conclusiones basadas en la evidencia empírica. Destaca la importancia de la replicación, la crítica y la revisión constante en la investigación científica para garantizar la precisión y la confiabilidad de los resultados. El caso de LK-99 demuestra que incluso afirmaciones sorprendentes deben ser sometidas a rigurosas pruebas y escrutinio antes de ser aceptadas en la comunidad científica."
      ],
      "metadata": {
        "id": "N2_FMQelp0YB"
      }
    }
  ]
}